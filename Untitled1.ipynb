{
  "nbformat": 4,
  "nbformat_minor": 0,
  "metadata": {
    "colab": {
      "name": "Untitled1.ipynb",
      "provenance": [],
      "authorship_tag": "ABX9TyOPkst1TEyhemTCPbTdLr8a",
      "include_colab_link": true
    },
    "kernelspec": {
      "name": "python3",
      "display_name": "Python 3"
    }
  },
  "cells": [
    {
      "cell_type": "markdown",
      "metadata": {
        "id": "view-in-github",
        "colab_type": "text"
      },
      "source": [
        "<a href=\"https://colab.research.google.com/github/esragoztas/python_homeworks/blob/main/Untitled1.ipynb\" target=\"_parent\"><img src=\"https://colab.research.google.com/assets/colab-badge.svg\" alt=\"Open In Colab\"/></a>"
      ]
    },
    {
      "cell_type": "code",
      "metadata": {
        "colab": {
          "base_uri": "https://localhost:8080/",
          "height": 128
        },
        "id": "gSd-yLxQvwrL",
        "outputId": "588c619d-2bf6-4df3-ccda-9bac26792b7b"
      },
      "source": [
        "students= [ömer ]\r\n",
        "name = input(\"Enter name : \")\r\n",
        "surname = input(\"Enter surname : \")\r\n",
        "while i<3:\r\n",
        "Check_name = input(\"Enter student name : \")\r\n",
        "Check_surname = input(\"Enter student surname : \")\r\n",
        "\r\n",
        "if (Check_name == name and Check_surname==surname):\r\n",
        "print(\"Welcome:\", name + surname)\r\n",
        "break\r\n",
        "else:\r\n",
        "print(\"Please Try Again!\")\r\n",
        "i+=1\r\n",
        "if(i==3):\r\n",
        "print(\"failed\")"
      ],
      "execution_count": 5,
      "outputs": [
        {
          "output_type": "error",
          "ename": "IndentationError",
          "evalue": "ignored",
          "traceback": [
            "\u001b[0;36m  File \u001b[0;32m\"<ipython-input-5-025ad598f653>\"\u001b[0;36m, line \u001b[0;32m4\u001b[0m\n\u001b[0;31m    Check_name = input(\"Enter student name : \")\u001b[0m\n\u001b[0m             ^\u001b[0m\n\u001b[0;31mIndentationError\u001b[0m\u001b[0;31m:\u001b[0m expected an indented block\n"
          ]
        }
      ]
    }
  ]
}